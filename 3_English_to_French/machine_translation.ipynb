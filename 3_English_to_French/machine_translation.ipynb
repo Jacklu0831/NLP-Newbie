{
 "cells": [
  {
   "cell_type": "markdown",
   "metadata": {
    "collapsed": true
   },
   "source": [
    "## Machine Translation (English to French)\n",
    "\n",
    "\n",
    "\n",
    "- **Preprocess** - converted text to sequence of integers.\n",
    "- **Models** - constructed 5 models: simple RNN, embedded RNN, BRNN, Encoder-Decoder, and all combined\n",
    "- **Prediction** Run the model on English text"
   ]
  },
  {
   "cell_type": "code",
   "execution_count": 1,
   "metadata": {},
   "outputs": [],
   "source": [
    "%load_ext autoreload\n",
    "%aimport helper, tests\n",
    "%autoreload 1"
   ]
  },
  {
   "cell_type": "code",
   "execution_count": 2,
   "metadata": {},
   "outputs": [
    {
     "name": "stderr",
     "output_type": "stream",
     "text": [
      "Using TensorFlow backend.\n"
     ]
    }
   ],
   "source": [
    "import collections\n",
    "\n",
    "import helper\n",
    "import numpy as np\n",
    "import project_tests as tests\n",
    "\n",
    "from keras.preprocessing.text import Tokenizer\n",
    "from keras.preprocessing.sequence import pad_sequences\n",
    "from keras.models import Model\n",
    "from keras.layers import GRU, Input, Dense, TimeDistributed, Activation, RepeatVector, Bidirectional\n",
    "from keras.layers.embeddings import Embedding\n",
    "from keras.optimizers import Adam\n",
    "from keras.losses import sparse_categorical_crossentropy"
   ]
  },
  {
   "cell_type": "markdown",
   "metadata": {},
   "source": [
    "### Verify access to the GPU"
   ]
  },
  {
   "cell_type": "code",
   "execution_count": 3,
   "metadata": {},
   "outputs": [
    {
     "name": "stdout",
     "output_type": "stream",
     "text": [
      "[name: \"/cpu:0\"\n",
      "device_type: \"CPU\"\n",
      "memory_limit: 268435456\n",
      "locality {\n",
      "}\n",
      "incarnation: 4934978347321389734\n",
      ", name: \"/gpu:0\"\n",
      "device_type: \"GPU\"\n",
      "memory_limit: 357433344\n",
      "locality {\n",
      "  bus_id: 1\n",
      "}\n",
      "incarnation: 9046379477279707207\n",
      "physical_device_desc: \"device: 0, name: Tesla K80, pci bus id: 0000:00:04.0\"\n",
      "]\n"
     ]
    }
   ],
   "source": [
    "from tensorflow.python.client import device_lib\n",
    "print(device_lib.list_local_devices())"
   ]
  },
  {
   "cell_type": "markdown",
   "metadata": {},
   "source": [
    "## Dataset\n",
    "A small subset of data from [WMT](http://www.statmt.org/)."
   ]
  },
  {
   "cell_type": "code",
   "execution_count": 4,
   "metadata": {},
   "outputs": [],
   "source": [
    "# Load English data\n",
    "english_sentences = helper.load_data('data/small_vocab_en')\n",
    "# Load French data\n",
    "french_sentences = helper.load_data('data/small_vocab_fr')"
   ]
  },
  {
   "cell_type": "code",
   "execution_count": 5,
   "metadata": {},
   "outputs": [
    {
     "name": "stdout",
     "output_type": "stream",
     "text": [
      "small_vocab_en Line 1:  new jersey is sometimes quiet during autumn , and it is snowy in april .\n",
      "small_vocab_fr Line 1:  new jersey est parfois calme pendant l' automne , et il est neigeux en avril .\n",
      "small_vocab_en Line 2:  the united states is usually chilly during july , and it is usually freezing in november .\n",
      "small_vocab_fr Line 2:  les états-unis est généralement froid en juillet , et il gèle habituellement en novembre .\n"
     ]
    }
   ],
   "source": [
    "for sample_i in range(2):\n",
    "    print('small_vocab_en Line {}:  {}'.format(sample_i + 1, english_sentences[sample_i]))\n",
    "    print('small_vocab_fr Line {}:  {}'.format(sample_i + 1, french_sentences[sample_i]))"
   ]
  },
  {
   "cell_type": "markdown",
   "metadata": {},
   "source": [
    "### Vocabulary"
   ]
  },
  {
   "cell_type": "code",
   "execution_count": 6,
   "metadata": {},
   "outputs": [
    {
     "name": "stdout",
     "output_type": "stream",
     "text": [
      "1823250 English words.\n",
      "227 unique English words.\n",
      "10 Most common words in the English dataset:\n",
      "\"is\" \",\" \".\" \"in\" \"it\" \"during\" \"the\" \"but\" \"and\" \"sometimes\"\n",
      "\n",
      "1961295 French words.\n",
      "355 unique French words.\n",
      "10 Most common words in the French dataset:\n",
      "\"est\" \".\" \",\" \"en\" \"il\" \"les\" \"mais\" \"et\" \"la\" \"parfois\"\n"
     ]
    }
   ],
   "source": [
    "english_words_counter = collections.Counter([word for sentence in english_sentences for word in sentence.split()])\n",
    "french_words_counter = collections.Counter([word for sentence in french_sentences for word in sentence.split()])\n",
    "\n",
    "print('{} English words.'.format(len([word for sentence in english_sentences for word in sentence.split()])))\n",
    "print('{} unique English words.'.format(len(english_words_counter)))\n",
    "print('10 Most common words in the English dataset:')\n",
    "print('\"' + '\" \"'.join(list(zip(*english_words_counter.most_common(10)))[0]) + '\"')\n",
    "print()\n",
    "print('{} French words.'.format(len([word for sentence in french_sentences for word in sentence.split()])))\n",
    "print('{} unique French words.'.format(len(french_words_counter)))\n",
    "print('10 Most common words in the French dataset:')\n",
    "print('\"' + '\" \"'.join(list(zip(*french_words_counter.most_common(10)))[0]) + '\"')"
   ]
  },
  {
   "cell_type": "markdown",
   "metadata": {},
   "source": [
    "## Preprocess\n",
    "### Tokenize"
   ]
  },
  {
   "cell_type": "code",
   "execution_count": 7,
   "metadata": {},
   "outputs": [
    {
     "name": "stdout",
     "output_type": "stream",
     "text": [
      "{'the': 1, 'quick': 2, 'a': 3, 'brown': 4, 'fox': 5, 'jumps': 6, 'over': 7, 'lazy': 8, 'dog': 9, 'by': 10, 'jove': 11, 'my': 12, 'study': 13, 'of': 14, 'lexicography': 15, 'won': 16, 'prize': 17, 'this': 18, 'is': 19, 'short': 20, 'sentence': 21}\n",
      "\n",
      "Sequence 1 in x\n",
      "  Input:  The quick brown fox jumps over the lazy dog .\n",
      "  Output: [1, 2, 4, 5, 6, 7, 1, 8, 9]\n",
      "Sequence 2 in x\n",
      "  Input:  By Jove , my quick study of lexicography won a prize .\n",
      "  Output: [10, 11, 12, 2, 13, 14, 15, 16, 3, 17]\n",
      "Sequence 3 in x\n",
      "  Input:  This is a short sentence .\n",
      "  Output: [18, 19, 3, 20, 21]\n"
     ]
    }
   ],
   "source": [
    "def tokenize(x):\n",
    "    \"\"\"\n",
    "    Tokenize x\n",
    "    :param x: List of sentences/strings to be tokenized\n",
    "    :return: Tuple of (tokenized x data, tokenizer used to tokenize x)\n",
    "    \"\"\"\n",
    "    tokenizer = Tokenizer(num_words=None, char_level=False)\n",
    "    tokenizer.fit_on_texts(x)\n",
    "    sequences = tokenizer.texts_to_sequences(x)\n",
    "    return sequences, tokenizer\n",
    "\n",
    "tests.test_tokenize(tokenize)\n",
    "\n",
    "# Tokenize Example output\n",
    "text_sentences = [\n",
    "    'The quick brown fox jumps over the lazy dog .',\n",
    "    'By Jove , my quick study of lexicography won a prize .',\n",
    "    'This is a short sentence .']\n",
    "\n",
    "text_tokenized, text_tokenizer = tokenize(text_sentences)\n",
    "print(text_tokenizer.word_index)\n",
    "print()\n",
    "for sample_i, (sent, token_sent) in enumerate(zip(text_sentences, text_tokenized)):\n",
    "    print('Sequence {} in x'.format(sample_i + 1))\n",
    "    print('  Input:  {}'.format(sent))\n",
    "    print('  Output: {}'.format(token_sent))"
   ]
  },
  {
   "cell_type": "markdown",
   "metadata": {},
   "source": [
    "### Padding"
   ]
  },
  {
   "cell_type": "code",
   "execution_count": 8,
   "metadata": {},
   "outputs": [
    {
     "name": "stdout",
     "output_type": "stream",
     "text": [
      "Sequence 1 in x\n",
      "  Input:  [1 2 4 5 6 7 1 8 9]\n",
      "  Output: [1 2 4 5 6 7 1 8 9 0]\n",
      "Sequence 2 in x\n",
      "  Input:  [10 11 12  2 13 14 15 16  3 17]\n",
      "  Output: [10 11 12  2 13 14 15 16  3 17]\n",
      "Sequence 3 in x\n",
      "  Input:  [18 19  3 20 21]\n",
      "  Output: [18 19  3 20 21  0  0  0  0  0]\n"
     ]
    }
   ],
   "source": [
    "def pad(x, length=None):\n",
    "    \"\"\"\n",
    "    Pad x\n",
    "    :param x: List of sequences.\n",
    "    :param length: Length to pad the sequence to.  If None, use length of longest sequence in x.\n",
    "    :return: Padded numpy array of sequences\n",
    "    \"\"\"\n",
    "    if (length is None):\n",
    "        padded_seq = pad_sequences(x, maxlen = max([len(sentence) for sentence in x]), padding=\"post\", truncating=\"post\")\n",
    "    else:\n",
    "        padded_seq = pad_sequences(x, maxlen = length, padding=\"post\", truncating=\"post\")\n",
    "                                   \n",
    "    return padded_seq\n",
    "\n",
    "tests.test_pad(pad)\n",
    "\n",
    "# Pad Tokenized output\n",
    "test_pad = pad(text_tokenized)\n",
    "for sample_i, (token_sent, pad_sent) in enumerate(zip(text_tokenized, test_pad)):\n",
    "    print('Sequence {} in x'.format(sample_i + 1))\n",
    "    print('  Input:  {}'.format(np.array(token_sent)))\n",
    "    print('  Output: {}'.format(pad_sent))"
   ]
  },
  {
   "cell_type": "markdown",
   "metadata": {},
   "source": [
    "### Preprocess Pipeline"
   ]
  },
  {
   "cell_type": "code",
   "execution_count": 9,
   "metadata": {},
   "outputs": [
    {
     "name": "stdout",
     "output_type": "stream",
     "text": [
      "Data Preprocessed\n",
      "Max English sentence length: 15\n",
      "Max French sentence length: 21\n",
      "English vocabulary size: 199\n",
      "French vocabulary size: 344\n"
     ]
    }
   ],
   "source": [
    "def preprocess(x, y):\n",
    "    \"\"\"\n",
    "    Preprocess x and y\n",
    "    :param x: Feature List of sentences\n",
    "    :param y: Label List of sentences\n",
    "    :return: Tuple of (Preprocessed x, Preprocessed y, x tokenizer, y tokenizer)\n",
    "    \"\"\"\n",
    "    preprocess_x, x_tk = tokenize(x)\n",
    "    preprocess_y, y_tk = tokenize(y)\n",
    "\n",
    "    preprocess_x = pad(preprocess_x)\n",
    "    preprocess_y = pad(preprocess_y)\n",
    "\n",
    "    # Keras's sparse_categorical_crossentropy function requires the labels to be in 3 dimensions\n",
    "    preprocess_y = preprocess_y.reshape(*preprocess_y.shape, 1)\n",
    "\n",
    "    return preprocess_x, preprocess_y, x_tk, y_tk\n",
    "\n",
    "preproc_english_sentences, preproc_french_sentences, english_tokenizer, french_tokenizer =\\\n",
    "    preprocess(english_sentences, french_sentences)\n",
    "    \n",
    "max_english_sequence_length = preproc_english_sentences.shape[1]\n",
    "max_french_sequence_length = preproc_french_sentences.shape[1]\n",
    "english_vocab_size = len(english_tokenizer.word_index)\n",
    "french_vocab_size = len(french_tokenizer.word_index)\n",
    "\n",
    "print('Data Preprocessed')\n",
    "print(\"Max English sentence length:\", max_english_sequence_length)\n",
    "print(\"Max French sentence length:\", max_french_sequence_length)\n",
    "print(\"English vocabulary size:\", english_vocab_size)\n",
    "print(\"French vocabulary size:\", french_vocab_size)"
   ]
  },
  {
   "cell_type": "markdown",
   "metadata": {},
   "source": [
    "## Models\n",
    "\n",
    "- Model 1 is a simple RNN\n",
    "- Model 2 is a RNN with Embedding\n",
    "- Model 3 is a Bidirectional RNN\n",
    "- Model 4 is an Encoder-Decoder RNN"
   ]
  },
  {
   "cell_type": "code",
   "execution_count": 10,
   "metadata": {},
   "outputs": [],
   "source": [
    "def logits_to_text(logits, tokenizer):\n",
    "    \"\"\"\n",
    "    Turn logits from a neural network into text using the tokenizer\n",
    "    :param logits: Logits from a neural network\n",
    "    :param tokenizer: Keras Tokenizer fit on the labels\n",
    "    :return: String that represents the text of the logits\n",
    "    \"\"\"\n",
    "    index_to_words = {id: word for word, id in tokenizer.word_index.items()}\n",
    "    index_to_words[0] = '<PAD>'\n",
    "\n",
    "    return ' '.join([index_to_words[prediction] for prediction in np.argmax(logits, 1)])"
   ]
  },
  {
   "cell_type": "markdown",
   "metadata": {},
   "source": [
    "### Model 1 - basic RNN model\n",
    "![RNN](images/rnn.png)\n"
   ]
  },
  {
   "cell_type": "code",
   "execution_count": 11,
   "metadata": {},
   "outputs": [
    {
     "name": "stdout",
     "output_type": "stream",
     "text": [
      "_________________________________________________________________\n",
      "Layer (type)                 Output Shape              Param #   \n",
      "=================================================================\n",
      "input_2 (InputLayer)         (None, 21, 1)             0         \n",
      "_________________________________________________________________\n",
      "gru_2 (GRU)                  (None, 21, 21)            1449      \n",
      "_________________________________________________________________\n",
      "time_distributed_2 (TimeDist (None, 21, 344)           7568      \n",
      "=================================================================\n",
      "Total params: 9,017\n",
      "Trainable params: 9,017\n",
      "Non-trainable params: 0\n",
      "_________________________________________________________________\n",
      "Train on 110288 samples, validate on 27573 samples\n",
      "Epoch 1/10\n",
      "110288/110288 [==============================] - 7s 64us/step - loss: 2.9175 - acc: 0.4412 - val_loss: nan - val_acc: 0.4822\n",
      "Epoch 2/10\n",
      "110288/110288 [==============================] - 6s 57us/step - loss: 2.2430 - acc: 0.4937 - val_loss: nan - val_acc: 0.5142\n",
      "Epoch 3/10\n",
      "110288/110288 [==============================] - 6s 57us/step - loss: 1.9390 - acc: 0.5333 - val_loss: nan - val_acc: 0.5642\n",
      "Epoch 4/10\n",
      "110288/110288 [==============================] - 6s 57us/step - loss: 1.7036 - acc: 0.5753 - val_loss: nan - val_acc: 0.5838\n",
      "Epoch 5/10\n",
      "110288/110288 [==============================] - 6s 57us/step - loss: 1.5833 - acc: 0.5905 - val_loss: nan - val_acc: 0.5976\n",
      "Epoch 6/10\n",
      "110288/110288 [==============================] - 6s 57us/step - loss: 1.5229 - acc: 0.5954 - val_loss: nan - val_acc: 0.5993\n",
      "Epoch 7/10\n",
      "110288/110288 [==============================] - 6s 57us/step - loss: 1.4819 - acc: 0.6012 - val_loss: nan - val_acc: 0.6039\n",
      "Epoch 8/10\n",
      "110288/110288 [==============================] - 6s 56us/step - loss: 1.4534 - acc: 0.6065 - val_loss: nan - val_acc: 0.6049\n",
      "Epoch 9/10\n",
      "110288/110288 [==============================] - 6s 57us/step - loss: 1.4284 - acc: 0.6094 - val_loss: nan - val_acc: 0.6099\n",
      "Epoch 10/10\n",
      "110288/110288 [==============================] - 6s 57us/step - loss: 1.4024 - acc: 0.6148 - val_loss: nan - val_acc: 0.6192\n",
      "new jersey est parfois parfois en mois et il est est en en <PAD> <PAD> <PAD> <PAD> <PAD> <PAD> <PAD> <PAD>\n"
     ]
    }
   ],
   "source": [
    "def simple_model(input_shape, output_sequence_length, english_vocab_size, french_vocab_size):\n",
    "    \"\"\"\n",
    "    Build and train a basic RNN on x and y\n",
    "    :param input_shape: Tuple of input shape\n",
    "    :param output_sequence_length: Length of output sequence\n",
    "    :param english_vocab_size: Number of unique English words in the dataset\n",
    "    :param french_vocab_size: Number of unique French words in the dataset\n",
    "    :return: Keras model built, but not trained\n",
    "    \"\"\"\n",
    "    lr = 1e-2\n",
    "    \n",
    "    inputs = Input(input_shape[1:])\n",
    "    hidden_layer = GRU(output_sequence_length, return_sequences=True)(inputs)\n",
    "    outputs = TimeDistributed(Dense(french_vocab_size, activation=\"softmax\"))(hidden_layer)\n",
    "    \n",
    "    model = Model(inputs = inputs, outputs = outputs)\n",
    "    model.compile(loss=sparse_categorical_crossentropy, optimizer=Adam(lr), metrics=[\"acc\"])\n",
    "        \n",
    "    return model\n",
    "\n",
    "tests.test_simple_model(simple_model)\n",
    "\n",
    "# Reshaping the input to work with a basic RNN\n",
    "tmp_x = pad(preproc_english_sentences, max_french_sequence_length)\n",
    "tmp_x = tmp_x.reshape((-1, preproc_french_sentences.shape[-2], 1))\n",
    "\n",
    "# Train the neural network\n",
    "simple_rnn_model = simple_model(\n",
    "    tmp_x.shape,\n",
    "    max_french_sequence_length,\n",
    "    english_vocab_size,\n",
    "    french_vocab_size)\n",
    "\n",
    "simple_rnn_model.summary()\n",
    "\n",
    "simple_rnn_model.fit(tmp_x, preproc_french_sentences, batch_size=1024, epochs=10, validation_split=0.2)\n",
    "\n",
    "# Print prediction(s)\n",
    "print(logits_to_text(simple_rnn_model.predict(tmp_x[:1])[0], french_tokenizer))"
   ]
  },
  {
   "cell_type": "markdown",
   "metadata": {},
   "source": [
    "### Model 2: Embedding\n",
    "![RNN](images/embedding.png)"
   ]
  },
  {
   "cell_type": "code",
   "execution_count": 21,
   "metadata": {},
   "outputs": [
    {
     "name": "stdout",
     "output_type": "stream",
     "text": [
      "_________________________________________________________________\n",
      "Layer (type)                 Output Shape              Param #   \n",
      "=================================================================\n",
      "input_16 (InputLayer)        (None, 21)                0         \n",
      "_________________________________________________________________\n",
      "embedding_7 (Embedding)      (None, 21, 21)            4200      \n",
      "_________________________________________________________________\n",
      "gru_17 (GRU)                 (None, 21, 21)            2709      \n",
      "_________________________________________________________________\n",
      "time_distributed_16 (TimeDis (None, 21, 345)           7590      \n",
      "=================================================================\n",
      "Total params: 14,499\n",
      "Trainable params: 14,499\n",
      "Non-trainable params: 0\n",
      "_________________________________________________________________\n",
      "Train on 110288 samples, validate on 27573 samples\n",
      "Epoch 1/10\n",
      "110288/110288 [==============================] - 8s 73us/step - loss: 2.8838 - acc: 0.4601 - val_loss: 1.9002 - val_acc: 0.5448\n",
      "Epoch 2/10\n",
      "110288/110288 [==============================] - 7s 65us/step - loss: 1.4473 - acc: 0.6360 - val_loss: 1.0947 - val_acc: 0.7035\n",
      "Epoch 3/10\n",
      "110288/110288 [==============================] - 7s 66us/step - loss: 0.9415 - acc: 0.7411 - val_loss: 0.8346 - val_acc: 0.7628\n",
      "Epoch 4/10\n",
      "110288/110288 [==============================] - 7s 66us/step - loss: 0.7790 - acc: 0.7780 - val_loss: 0.7310 - val_acc: 0.7886\n",
      "Epoch 5/10\n",
      "110288/110288 [==============================] - 7s 66us/step - loss: 0.6962 - acc: 0.7986 - val_loss: 0.6632 - val_acc: 0.8061\n",
      "Epoch 6/10\n",
      "110288/110288 [==============================] - 7s 66us/step - loss: 0.6441 - acc: 0.8103 - val_loss: 0.6231 - val_acc: 0.8149\n",
      "Epoch 7/10\n",
      "110288/110288 [==============================] - 7s 66us/step - loss: 0.6062 - acc: 0.8204 - val_loss: 0.5889 - val_acc: 0.8268\n",
      "Epoch 8/10\n",
      "110288/110288 [==============================] - 7s 66us/step - loss: 0.5786 - acc: 0.8281 - val_loss: 0.5657 - val_acc: 0.8320\n",
      "Epoch 9/10\n",
      "110288/110288 [==============================] - 7s 66us/step - loss: 0.5569 - acc: 0.8339 - val_loss: 0.5463 - val_acc: 0.8373\n",
      "Epoch 10/10\n",
      "110288/110288 [==============================] - 7s 66us/step - loss: 0.5404 - acc: 0.8383 - val_loss: 0.5339 - val_acc: 0.8401\n",
      "new jersey est parfois calme au l'automne et il est est neigeux en avril <PAD> <PAD> <PAD> <PAD> <PAD> <PAD> <PAD>\n"
     ]
    }
   ],
   "source": [
    "def embed_model(input_shape, output_sequence_length, english_vocab_size, french_vocab_size):\n",
    "    \"\"\"\n",
    "    Build and train a RNN model using word embedding on x and y\n",
    "    :param input_shape: Tuple of input shape\n",
    "    :param output_sequence_length: Length of output sequence\n",
    "    :param english_vocab_size: Number of unique English words in the dataset\n",
    "    :param french_vocab_size: Number of unique French words in the dataset\n",
    "    :return: Keras model built, but not trained\n",
    "    \"\"\"\n",
    "    lr = 0.01\n",
    "    \n",
    "    inputs = Input(input_shape[1:])\n",
    "    embedding_layer = Embedding(input_dim=english_vocab_size, output_dim=output_sequence_length)(inputs)\n",
    "    hidden_layer = GRU(output_sequence_length, return_sequences=True)(embedding_layer)\n",
    "    outputs = TimeDistributed(Dense(french_vocab_size, activation=\"softmax\"))(hidden_layer)\n",
    "    \n",
    "    model = Model(inputs, outputs)\n",
    "    model.compile(loss=sparse_categorical_crossentropy, optimizer=Adam(lr), \n",
    "                 metrics=['acc'])\n",
    "    \n",
    "    return model\n",
    "\n",
    "tests.test_embed_model(embed_model)\n",
    "\n",
    "\n",
    "# Reshape the input\n",
    "tmp_x = pad(preproc_english_sentences, preproc_french_sentences.shape[1])\n",
    "tmp_x = tmp_x.reshape((-1, preproc_french_sentences.shape[-2]))\n",
    "\n",
    "# Train the neural network\n",
    "embed_rnn_model = embed_model(tmp_x.shape, preproc_french_sentences.shape[1], len(english_tokenizer.word_index)+1, \n",
    "                             len(french_tokenizer.word_index)+1)\n",
    "embed_rnn_model.summary()\n",
    "embed_rnn_model.fit(tmp_x, preproc_french_sentences, batch_size=1024, epochs=10, validation_split=0.2)\n",
    "\n",
    "# Print prediction(s)\n",
    "print(logits_to_text(embed_rnn_model.predict(tmp_x[:1])[0], french_tokenizer))"
   ]
  },
  {
   "cell_type": "markdown",
   "metadata": {},
   "source": [
    "### Model 3: Bidirectional RNNs\n",
    "![RNN](images/bidirectional.png)"
   ]
  },
  {
   "cell_type": "code",
   "execution_count": 22,
   "metadata": {},
   "outputs": [
    {
     "name": "stdout",
     "output_type": "stream",
     "text": [
      "_________________________________________________________________\n",
      "Layer (type)                 Output Shape              Param #   \n",
      "=================================================================\n",
      "input_18 (InputLayer)        (None, 21, 1)             0         \n",
      "_________________________________________________________________\n",
      "bidirectional_4 (Bidirection (None, 21, 42)            2898      \n",
      "_________________________________________________________________\n",
      "time_distributed_18 (TimeDis (None, 21, 345)           14835     \n",
      "=================================================================\n",
      "Total params: 17,733\n",
      "Trainable params: 17,733\n",
      "Non-trainable params: 0\n",
      "_________________________________________________________________\n",
      "Train on 110288 samples, validate on 27573 samples\n",
      "Epoch 1/10\n",
      "110288/110288 [==============================] - 11s 97us/step - loss: 2.5228 - acc: 0.4970 - val_loss: 1.7429 - val_acc: 0.5753\n",
      "Epoch 2/10\n",
      "110288/110288 [==============================] - 10s 86us/step - loss: 1.5800 - acc: 0.5932 - val_loss: 1.4814 - val_acc: 0.6081\n",
      "Epoch 3/10\n",
      "110288/110288 [==============================] - 10s 87us/step - loss: 1.4246 - acc: 0.6182 - val_loss: 1.3753 - val_acc: 0.6295\n",
      "Epoch 4/10\n",
      "110288/110288 [==============================] - 10s 87us/step - loss: 1.3345 - acc: 0.6347 - val_loss: 1.2985 - val_acc: 0.6399\n",
      "Epoch 5/10\n",
      "110288/110288 [==============================] - 10s 88us/step - loss: 1.2691 - acc: 0.6471 - val_loss: 1.2428 - val_acc: 0.6497\n",
      "Epoch 6/10\n",
      "110288/110288 [==============================] - 10s 88us/step - loss: 1.2283 - acc: 0.6518 - val_loss: 1.2047 - val_acc: 0.6572\n",
      "Epoch 7/10\n",
      "110288/110288 [==============================] - 9s 86us/step - loss: 1.1920 - acc: 0.6586 - val_loss: 1.1773 - val_acc: 0.6614\n",
      "Epoch 8/10\n",
      "110288/110288 [==============================] - 9s 86us/step - loss: 1.1657 - acc: 0.6633 - val_loss: 1.1551 - val_acc: 0.6658\n",
      "Epoch 9/10\n",
      "110288/110288 [==============================] - 10s 86us/step - loss: 1.1555 - acc: 0.6643 - val_loss: 1.1508 - val_acc: 0.6670\n",
      "Epoch 10/10\n",
      "110288/110288 [==============================] - 10s 86us/step - loss: 1.1412 - acc: 0.6673 - val_loss: 1.1318 - val_acc: 0.6677\n",
      "new jersey est parfois calme en en et il est est en en <PAD> <PAD> <PAD> <PAD> <PAD> <PAD> <PAD> <PAD>\n"
     ]
    }
   ],
   "source": [
    "def bd_model(input_shape, output_sequence_length, english_vocab_size, french_vocab_size):\n",
    "    \"\"\"\n",
    "    Build and train a bidirectional RNN model on x and y\n",
    "    :param input_shape: Tuple of input shape\n",
    "    :param output_sequence_length: Length of output sequence\n",
    "    :param english_vocab_size: Number of unique English words in the dataset\n",
    "    :param french_vocab_size: Number of unique French words in the dataset\n",
    "    :return: Keras model built, but not trained\n",
    "    \"\"\"\n",
    "    lr = 0.01\n",
    "    \n",
    "    inputs = Input(input_shape[1:])\n",
    "    hidden_layer = Bidirectional(GRU(output_sequence_length, return_sequences=True))(inputs)\n",
    "    outputs = TimeDistributed(Dense(french_vocab_size, activation=\"softmax\"))(hidden_layer)\n",
    "    \n",
    "    model = Model(inputs, outputs)\n",
    "    model.compile(loss=sparse_categorical_crossentropy, optimizer=Adam(lr), metrics=[\"acc\"])\n",
    "    \n",
    "    return model\n",
    "\n",
    "tests.test_bd_model(bd_model)\n",
    "\n",
    "# Train and Print prediction(s)\n",
    "\n",
    "# Reshape the input\n",
    "tmp_x = pad(preproc_english_sentences, preproc_french_sentences.shape[1])\n",
    "tmp_x = tmp_x.reshape((-1, preproc_french_sentences.shape[-2], 1))\n",
    "\n",
    "# Train the neural network\n",
    "bd_rnn_model = bd_model(\n",
    "    tmp_x.shape,\n",
    "    preproc_french_sentences.shape[1],\n",
    "    len(english_tokenizer.word_index) + 1,\n",
    "    len(french_tokenizer.word_index) + 1)\n",
    "bd_rnn_model.summary()\n",
    "bd_rnn_model.fit(tmp_x, preproc_french_sentences, batch_size=1024, epochs=10, validation_split=0.2)\n",
    "\n",
    "# Print prediction(s)\n",
    "print(logits_to_text(bd_rnn_model.predict(tmp_x[:1])[0], french_tokenizer))"
   ]
  },
  {
   "cell_type": "markdown",
   "metadata": {},
   "source": [
    "### Model 4: Encoder-Decoder"
   ]
  },
  {
   "cell_type": "code",
   "execution_count": 23,
   "metadata": {},
   "outputs": [
    {
     "name": "stdout",
     "output_type": "stream",
     "text": [
      "_________________________________________________________________\n",
      "Layer (type)                 Output Shape              Param #   \n",
      "=================================================================\n",
      "input_20 (InputLayer)        (None, 21, 1)             0         \n",
      "_________________________________________________________________\n",
      "gru_22 (GRU)                 (None, 21)                1449      \n",
      "_________________________________________________________________\n",
      "dense_22 (Dense)             (None, 128)               2816      \n",
      "_________________________________________________________________\n",
      "repeat_vector_3 (RepeatVecto (None, 21, 128)           0         \n",
      "_________________________________________________________________\n",
      "gru_23 (GRU)                 (None, 21, 128)           98688     \n",
      "_________________________________________________________________\n",
      "time_distributed_20 (TimeDis (None, 21, 345)           44505     \n",
      "=================================================================\n",
      "Total params: 147,458\n",
      "Trainable params: 147,458\n",
      "Non-trainable params: 0\n",
      "_________________________________________________________________\n",
      "Train on 110288 samples, validate on 27573 samples\n",
      "Epoch 1/10\n",
      "110288/110288 [==============================] - 13s 120us/step - loss: 2.6391 - acc: 0.4655 - val_loss: 2.0326 - val_acc: 0.5309\n",
      "Epoch 2/10\n",
      "110288/110288 [==============================] - 12s 108us/step - loss: 1.8948 - acc: 0.5381 - val_loss: 1.7234 - val_acc: 0.5575\n",
      "Epoch 3/10\n",
      "110288/110288 [==============================] - 12s 107us/step - loss: 1.6907 - acc: 0.5646 - val_loss: 1.5935 - val_acc: 0.5780\n",
      "Epoch 4/10\n",
      "110288/110288 [==============================] - 12s 108us/step - loss: 1.5393 - acc: 0.5852 - val_loss: 1.4188 - val_acc: 0.6032\n",
      "Epoch 5/10\n",
      "110288/110288 [==============================] - 12s 108us/step - loss: 1.3833 - acc: 0.6111 - val_loss: 1.3207 - val_acc: 0.6241\n",
      "Epoch 6/10\n",
      "110288/110288 [==============================] - 12s 108us/step - loss: 1.3001 - acc: 0.6284 - val_loss: 1.2605 - val_acc: 0.6332\n",
      "Epoch 7/10\n",
      "110288/110288 [==============================] - 12s 108us/step - loss: 1.2985 - acc: 0.6332 - val_loss: 1.2886 - val_acc: 0.6305\n",
      "Epoch 8/10\n",
      "110288/110288 [==============================] - 12s 108us/step - loss: 1.2547 - acc: 0.6400 - val_loss: 1.2148 - val_acc: 0.6436\n",
      "Epoch 9/10\n",
      "110288/110288 [==============================] - 12s 107us/step - loss: 1.2066 - acc: 0.6481 - val_loss: 1.1996 - val_acc: 0.6481\n",
      "Epoch 10/10\n",
      "110288/110288 [==============================] - 12s 107us/step - loss: 1.1969 - acc: 0.6491 - val_loss: 1.1779 - val_acc: 0.6538\n",
      "new jersey est parfois agréable en mois mais il est il en en <PAD> <PAD> <PAD> <PAD> <PAD> <PAD> <PAD> <PAD>\n"
     ]
    }
   ],
   "source": [
    "def encdec_model(input_shape, output_sequence_length, english_vocab_size, french_vocab_size):\n",
    "    \"\"\"\n",
    "    Build and train an encoder-decoder model on x and y\n",
    "    :param input_shape: Tuple of input shape\n",
    "    :param output_sequence_length: Length of output sequence\n",
    "    :param english_vocab_size: Number of unique English words in the dataset\n",
    "    :param french_vocab_size: Number of unique French words in the dataset\n",
    "    :return: Keras model built, but not trained\n",
    "    \"\"\"\n",
    "    lr = 0.01\n",
    "    latent_dim = 128\n",
    "    \n",
    "    # encoder\n",
    "    enc_inputs = Input(input_shape[1:])\n",
    "    enc_gru = GRU(output_sequence_length)(enc_inputs)\n",
    "    enc_outputs = Dense(latent_dim, activation=\"relu\")(enc_gru)\n",
    "    \n",
    "    # decoder\n",
    "    dec_inputs = RepeatVector(output_sequence_length)(enc_outputs) # repeat enc output by many times\n",
    "    dec_gru = GRU(latent_dim, return_sequences=True)(dec_inputs)\n",
    "    outputs = TimeDistributed(Dense(french_vocab_size, activation=\"softmax\"))(dec_gru)\n",
    "    \n",
    "    model = Model(enc_inputs, outputs)\n",
    "    model.compile(loss=sparse_categorical_crossentropy, optimizer=Adam(lr), metrics=[\"acc\"])\n",
    "    \n",
    "    return model\n",
    "\n",
    "tests.test_encdec_model(encdec_model)\n",
    "\n",
    "# Train and Print prediction(s)\n",
    "\n",
    "# Reshape the input\n",
    "tmp_x = pad(preproc_english_sentences, preproc_french_sentences.shape[1])\n",
    "tmp_x = tmp_x.reshape((-1, preproc_french_sentences.shape[-2], 1))\n",
    "\n",
    "# Train the neural network\n",
    "encdec_rnn_model = encdec_model(tmp_x.shape, preproc_french_sentences.shape[1],\n",
    "                                len(english_tokenizer.word_index) + 1, len(french_tokenizer.word_index) + 1)\n",
    "encdec_rnn_model.summary()\n",
    "encdec_rnn_model.fit(tmp_x, preproc_french_sentences, batch_size=1024, epochs=10, validation_split=0.2)\n",
    "\n",
    "# Print prediction(s)\n",
    "print(logits_to_text(encdec_rnn_model.predict(tmp_x[:1])[0], french_tokenizer))"
   ]
  },
  {
   "cell_type": "markdown",
   "metadata": {},
   "source": [
    "### Model 5: Combination of Previous Models"
   ]
  },
  {
   "cell_type": "code",
   "execution_count": 32,
   "metadata": {},
   "outputs": [],
   "source": [
    "def model_final(input_shape, output_sequence_length, english_vocab_size, french_vocab_size):\n",
    "    \"\"\"\n",
    "    Build and train a model that incorporates embedding, encoder-decoder, and bidirectional RNN on x and y\n",
    "    :param input_shape: Tuple of input shape\n",
    "    :param output_sequence_length: Length of output sequence\n",
    "    :param english_vocab_size: Number of unique English words in the dataset\n",
    "    :param french_vocab_size: Number of unique French words in the dataset\n",
    "    :return: Keras model built, but not trained\n",
    "    \"\"\"\n",
    "    lr = 0.01\n",
    "    latent_dim = 128\n",
    "    \n",
    "    inputs = Input(input_shape[1:])\n",
    "    embedding_layer = Embedding(input_dim=english_vocab_size,\n",
    "                               output_dim=output_sequence_length,\n",
    "                               mask_zero=False)(inputs)\n",
    "    bd_layer = Bidirectional(GRU(output_sequence_length))(embedding_layer)\n",
    "    enc_layer = Dense(latent_dim, activation=\"relu\")(bd_layer)\n",
    "    dec_layer = RepeatVector(output_sequence_length)(enc_layer)\n",
    "    output_layer = Bidirectional(GRU(latent_dim, return_sequences=True))(dec_layer)\n",
    "    outputs = TimeDistributed(Dense(french_vocab_size, activation=\"softmax\"))(output_layer)\n",
    "    \n",
    "    model = Model(inputs, outputs)\n",
    "    model.compile(loss=sparse_categorical_crossentropy, optimizer=Adam(lr),\n",
    "                 metrics=[\"acc\"])\n",
    "    \n",
    "    return model\n",
    "\n",
    "tests.test_model_final(model_final)"
   ]
  },
  {
   "cell_type": "markdown",
   "metadata": {},
   "source": [
    "## Prediction"
   ]
  },
  {
   "cell_type": "code",
   "execution_count": 33,
   "metadata": {},
   "outputs": [
    {
     "name": "stdout",
     "output_type": "stream",
     "text": [
      "_________________________________________________________________\n",
      "Layer (type)                 Output Shape              Param #   \n",
      "=================================================================\n",
      "input_29 (InputLayer)        (None, 15)                0         \n",
      "_________________________________________________________________\n",
      "embedding_16 (Embedding)     (None, 15, 21)            4200      \n",
      "_________________________________________________________________\n",
      "bidirectional_19 (Bidirectio (None, 42)                5418      \n",
      "_________________________________________________________________\n",
      "dense_38 (Dense)             (None, 128)               5504      \n",
      "_________________________________________________________________\n",
      "repeat_vector_11 (RepeatVect (None, 21, 128)           0         \n",
      "_________________________________________________________________\n",
      "bidirectional_20 (Bidirectio (None, 21, 256)           197376    \n",
      "_________________________________________________________________\n",
      "time_distributed_28 (TimeDis (None, 21, 345)           88665     \n",
      "=================================================================\n",
      "Total params: 301,163\n",
      "Trainable params: 301,163\n",
      "Non-trainable params: 0\n",
      "_________________________________________________________________\n",
      "Train on 110288 samples, validate on 27573 samples\n",
      "Epoch 1/10\n",
      "110288/110288 [==============================] - 23s 208us/step - loss: 2.1528 - acc: 0.5173 - val_loss: 1.3828 - val_acc: 0.6276\n",
      "Epoch 2/10\n",
      "110288/110288 [==============================] - 20s 181us/step - loss: 1.1262 - acc: 0.6819 - val_loss: 0.9481 - val_acc: 0.7223\n",
      "Epoch 3/10\n",
      "110288/110288 [==============================] - 20s 181us/step - loss: 0.8622 - acc: 0.7405 - val_loss: 0.7682 - val_acc: 0.7640\n",
      "Epoch 4/10\n",
      "110288/110288 [==============================] - 20s 181us/step - loss: 0.6699 - acc: 0.7932 - val_loss: 0.5912 - val_acc: 0.8165\n",
      "Epoch 5/10\n",
      "110288/110288 [==============================] - 20s 181us/step - loss: 0.5465 - acc: 0.8287 - val_loss: 0.4932 - val_acc: 0.8459\n",
      "Epoch 6/10\n",
      "110288/110288 [==============================] - 20s 181us/step - loss: 0.4418 - acc: 0.8613 - val_loss: 0.4257 - val_acc: 0.8649\n",
      "Epoch 7/10\n",
      "110288/110288 [==============================] - 20s 182us/step - loss: 0.3581 - acc: 0.8868 - val_loss: 0.3265 - val_acc: 0.8982\n",
      "Epoch 8/10\n",
      "110288/110288 [==============================] - 20s 181us/step - loss: 0.2983 - acc: 0.9076 - val_loss: 0.2866 - val_acc: 0.9107\n",
      "Epoch 9/10\n",
      "110288/110288 [==============================] - 20s 182us/step - loss: 0.2449 - acc: 0.9256 - val_loss: 0.2215 - val_acc: 0.9336\n",
      "Epoch 10/10\n",
      "110288/110288 [==============================] - 20s 181us/step - loss: 0.2125 - acc: 0.9349 - val_loss: 0.2078 - val_acc: 0.9370\n",
      "Sample 1:\n",
      "il a vu un vieux camion jaune <PAD> <PAD> <PAD> <PAD> <PAD> <PAD> <PAD> <PAD> <PAD> <PAD> <PAD> <PAD> <PAD> <PAD>\n",
      "Il a vu un vieux camion jaune\n",
      "Sample 2:\n",
      "new jersey est parfois calme pendant l' et et il est en avril neigeux <PAD> <PAD> <PAD> <PAD> <PAD> <PAD> <PAD>\n",
      "new jersey est parfois calme pendant l' automne et il est neigeux en avril <PAD> <PAD> <PAD> <PAD> <PAD> <PAD> <PAD>\n"
     ]
    }
   ],
   "source": [
    "def final_predictions(x, y, x_tk, y_tk):\n",
    "    \"\"\"\n",
    "    Gets predictions using the final model\n",
    "    :param x: Preprocessed English data\n",
    "    :param y: Preprocessed French data\n",
    "    :param x_tk: English tokenizer\n",
    "    :param y_tk: French tokenizer\n",
    "    \"\"\"\n",
    "    # Train neural network using model_final\n",
    "    model = model_final(x.shape, \n",
    "                        y.shape[1], \n",
    "                        len(x_tk.word_index)+1, \n",
    "                        len(y_tk.word_index)+1)\n",
    "    \n",
    "    model.summary()\n",
    "    model.fit(x, y, batch_size=1024, epochs=10, validation_split=0.2)\n",
    "\n",
    "    y_id_to_word = {value: key for key, value in y_tk.word_index.items()}\n",
    "    y_id_to_word[0] = '<PAD>'\n",
    "\n",
    "    sentence = 'he saw a old yellow truck'\n",
    "    sentence = [x_tk.word_index[word] for word in sentence.split()]\n",
    "    sentence = pad_sequences([sentence], maxlen=x.shape[-1], padding='post')\n",
    "    sentences = np.array([sentence[0], x[0]])\n",
    "    predictions = model.predict(sentences, len(sentences))\n",
    "\n",
    "    print('Sample 1:')\n",
    "    print(' '.join([y_id_to_word[np.argmax(x)] for x in predictions[0]]))\n",
    "    print('Il a vu un vieux camion jaune')\n",
    "    print('Sample 2:')\n",
    "    print(' '.join([y_id_to_word[np.argmax(x)] for x in predictions[1]]))\n",
    "    print(' '.join([y_id_to_word[np.max(x)] for x in y[0]]))\n",
    "\n",
    "\n",
    "final_predictions(preproc_english_sentences, preproc_french_sentences, english_tokenizer, french_tokenizer)"
   ]
  },
  {
   "cell_type": "markdown",
   "metadata": {},
   "source": [
    "### Generate the html"
   ]
  },
  {
   "cell_type": "code",
   "execution_count": 34,
   "metadata": {},
   "outputs": [
    {
     "data": {
      "text/plain": [
       "['[NbConvertApp] Converting notebook machine_translation.ipynb to html',\n",
       " '[NbConvertApp] Writing 363697 bytes to machine_translation.html',\n",
       " '[NbConvertApp] Converting notebook machine_translation-zh.ipynb to html',\n",
       " '[NbConvertApp] Writing 328614 bytes to machine_translation-zh.html']"
      ]
     },
     "execution_count": 34,
     "metadata": {},
     "output_type": "execute_result"
    }
   ],
   "source": [
    "!!jupyter nbconvert *.ipynb"
   ]
  }
 ],
 "metadata": {
  "kernelspec": {
   "display_name": "Python 3",
   "language": "python",
   "name": "python3"
  },
  "language_info": {
   "codemirror_mode": {
    "name": "ipython",
    "version": 3
   },
   "file_extension": ".py",
   "mimetype": "text/x-python",
   "name": "python",
   "nbconvert_exporter": "python",
   "pygments_lexer": "ipython3",
   "version": "3.6.3"
  }
 },
 "nbformat": 4,
 "nbformat_minor": 1
}
